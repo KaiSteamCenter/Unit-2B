{
 "cells": [
  {
   "cell_type": "code",
   "execution_count": 4,
   "metadata": {},
   "outputs": [
    {
     "name": "stderr",
     "output_type": "stream",
     "text": [
      "2023-12-14 10:38:10.087916: I tensorflow/compiler/mlir/mlir_graph_optimization_pass.cc:388] MLIR V1 optimization pass is not enabled\n"
     ]
    },
    {
     "name": "stdout",
     "output_type": "stream",
     "text": [
      "Loading checkpoint models/124M/model.ckpt\n",
      "INFO:tensorflow:Restoring parameters from models/124M/model.ckpt\n",
      "Loading dataset...\n"
     ]
    },
    {
     "name": "stderr",
     "output_type": "stream",
     "text": [
      "100%|██████████| 1/1 [00:00<00:00, 1362.23it/s]"
     ]
    },
    {
     "name": "stdout",
     "output_type": "stream",
     "text": [
      "dataset has 2574 tokens\n",
      "Training...\n"
     ]
    },
    {
     "name": "stderr",
     "output_type": "stream",
     "text": [
      "\n"
     ]
    },
    {
     "name": "stdout",
     "output_type": "stream",
     "text": [
      "[1 | 18.40] loss=3.17 avg=3.17\n",
      "[2 | 37.56] loss=2.77 avg=2.97\n",
      "[3 | 56.32] loss=2.61 avg=2.84\n",
      "[4 | 74.73] loss=2.36 avg=2.72\n",
      "[5 | 92.98] loss=2.18 avg=2.61\n",
      "[6 | 111.30] loss=1.96 avg=2.50\n",
      "[7 | 129.86] loss=1.69 avg=2.38\n",
      "[8 | 148.73] loss=1.59 avg=2.28\n",
      "[9 | 167.02] loss=1.38 avg=2.17\n",
      "[10 | 185.14] loss=1.09 avg=2.06\n",
      "[11 | 203.14] loss=1.07 avg=1.97\n",
      "[12 | 220.62] loss=0.82 avg=1.87\n",
      "[13 | 239.36] loss=0.78 avg=1.78\n",
      "[14 | 257.62] loss=0.49 avg=1.68\n",
      "[15 | 275.49] loss=0.60 avg=1.60\n",
      "[16 | 293.65] loss=0.47 avg=1.53\n",
      "[17 | 311.35] loss=0.32 avg=1.45\n",
      "[18 | 328.71] loss=0.33 avg=1.38\n",
      "[19 | 345.81] loss=0.21 avg=1.31\n",
      "[20 | 363.57] loss=0.27 avg=1.26\n",
      "[21 | 380.88] loss=0.17 avg=1.20\n",
      "[22 | 397.47] loss=0.11 avg=1.14\n",
      "[23 | 414.80] loss=0.10 avg=1.09\n",
      "[24 | 432.02] loss=0.09 avg=1.05\n",
      "[25 | 448.56] loss=0.06 avg=1.00\n",
      "[26 | 464.93] loss=0.06 avg=0.96\n",
      "[27 | 481.93] loss=0.07 avg=0.92\n",
      "[28 | 499.30] loss=0.06 avg=0.89\n",
      "[29 | 515.70] loss=0.04 avg=0.85\n",
      "[30 | 532.78] loss=0.06 avg=0.82\n",
      "[31 | 549.48] loss=0.07 avg=0.80\n",
      "[32 | 566.39] loss=0.03 avg=0.77\n",
      "[33 | 583.11] loss=0.04 avg=0.74\n",
      "[34 | 599.86] loss=0.03 avg=0.72\n",
      "[35 | 616.29] loss=0.03 avg=0.70\n",
      "[36 | 633.08] loss=0.03 avg=0.67\n",
      "[37 | 649.38] loss=0.06 avg=0.65\n",
      "[38 | 666.62] loss=0.03 avg=0.63\n",
      "[39 | 683.29] loss=0.04 avg=0.62\n",
      "[40 | 699.72] loss=0.02 avg=0.60\n",
      "[41 | 716.91] loss=0.02 avg=0.58\n",
      "[42 | 732.98] loss=0.03 avg=0.56\n",
      "[43 | 749.46] loss=0.03 avg=0.55\n",
      "[44 | 766.65] loss=0.02 avg=0.53\n",
      "[45 | 783.72] loss=0.03 avg=0.52\n",
      "interrupted\n",
      "Saving checkpoint/steam/model-45\n"
     ]
    }
   ],
   "source": [
    "import gpt_2_simple as gpt2\n",
    "\n",
    "session = gpt2.start_tf_sess()\n",
    "gpt2.finetune(\n",
    "    session, \"steam.txt\", model_name=\"124M\", steps=100, run_name='steam'\n",
    ")"
   ]
  }
 ],
 "metadata": {
  "kernelspec": {
   "display_name": "Python 3",
   "language": "python",
   "name": "python3"
  },
  "language_info": {
   "codemirror_mode": {
    "name": "ipython",
    "version": 3
   },
   "file_extension": ".py",
   "mimetype": "text/x-python",
   "name": "python",
   "nbconvert_exporter": "python",
   "pygments_lexer": "ipython3",
   "version": "3.10.8"
  },
  "orig_nbformat": 4,
  "vscode": {
   "interpreter": {
    "hash": "b0fa6594d8f4cbf19f97940f81e996739fb7646882a419484c72d19e05852a7e"
   }
  }
 },
 "nbformat": 4,
 "nbformat_minor": 2
}
