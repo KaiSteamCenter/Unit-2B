{
 "cells": [
  {
   "cell_type": "code",
   "execution_count": null,
   "metadata": {},
   "outputs": [],
   "source": [
    "import gpt_2_simple as gpt2\n",
    "\n",
    "session = gpt2.start_tf_sess()\n",
    "gpt2.finetune(\n",
    "    session, \"steam.txt\", model_name=\"124M\", steps=, run_name='steam'\n",
    ")"
   ]
  },
  {
   "cell_type": "code",
   "execution_count": 8,
   "metadata": {},
   "outputs": [
    {
     "name": "stdout",
     "output_type": "stream",
     "text": [
      "Where is the Brooklyn Steam Center located? How long are the experiences?\n",
      "A: The Brooklyn STEAM Center is located on the Brooklyn Navy Yard, which is geographically separate from all of our partner high schools. Scholars in our program spend half of their school day with us and the other half at their home high school. We provide complimentary yellow bus shuttles during the middle of the day for scholars to travel between the two locations to ensure punctuality and avoid harsh weather.\n",
      "\n",
      "Q: How does this impact my high school graduation requirements?\n",
      "A: Our CTE Programs enable scholars to reduce their required 6 credits of LOTE (Language Other Than English) to 2 credits. In addition, we provide 13 elective credits on a scholar's transcript, five more than required, which can enhance their GPA and stand out to colleges. We also offer a bonus credit course for our internship program. Furthermore, scholars qualify for advanced annotations on their high school diplomas for the successful completion of our program.\n",
      "\n",
      "Q: This sounds great, but how much does it cost?\n",
      "A: The Brooklyn STEAM Center is operated by the New York City Department of Education, therefore as a public school, there is NO cost for scholars to attend. We cover the cost of all equipment, supplies, and fees.\n",
      "\n",
      "Q: How can I find out more about the Brooklyn STEAM Center?\n",
      "A: A typical first step is to speak to your school's counselor. Scholars accepted into the cohort will be able to visit the Brooklyn STEAM Center, once in Grade 9 and again in Grade 10, for specific guided tours. In addition, we offer exploratory opportunities for potential applicants to 'try it on' with our instructors during Grade 10. We also conduct a Brooklyn Navy Yard tour to meet our business partners in Grade 9. Private tours are available upon request.\n",
      "\n",
      "Q: Do I need to be a certain \"type\" of student to be accepted?\n",
      "A: No. We accept students from all eight of our partner schools in an unbiased manner. We do not screen based on grades, demographics, special education, or language proficiency status. If you have concerns about a specific scholar limitation and being able to participate, please let us know; we believe that anyone can learn!\n",
      "\n",
      "Q: Can Grade 11/12 students apply to the Brooklyn STEAM Center?\n",
      "A: Usually, the answer to this question would be \"No\". However, with proper advocacy and support from the partner high school, there may be opportunities for scholars to enter as a Year 2 student based on availability.\n",
      "\n",
      "Q: Beyond the coursework, what else does the Brooklyn STEAM Center provide?\n",
      "A: Scholars are eligible for paid internships with one of our industry partners, prior learning credits and/or priority admission with our partner colleges, access to free testing for industry-recognized credentials, and a supportive community that is built around working with our scholars for their future.\n",
      "\n",
      "Q: How/When do I decide which CTE pathway I want to study? Can I choose more than one?\n",
      "A: You will rank all of the CTE Programs on the supplemental application that you will complete near the end of Grade 10. Scholars typically attain their first choice. Unfortunately, our programs are designed for two full years of instruction, which means you can only enroll in one program.\n",
      "\n",
      "Q: How will I know that I was accepted? Is there an orientation?\n",
      "A: The scholar, identified parent/guardian, and the respective school counselor will receive an email notification that you have been accepted that will also identify the appropriate CTE program that you can either accept or decline. Accepted scholars and their families will be invited to an orientation.\n",
      "\n",
      "Q: What should I do if I have any questions or concerns?\n",
      "A: We have two recommendations, speak to your home high school counselor and/or email our admissions director.\n",
      "\n",
      "Q: Although I’ve graduated, can you still help me with “X”?\n",
      "A: We say, “Once STEAM, Always STEAM”, so please reach out and we will link you with a member of our team or a support service to assist you in solving your problem.\n",
      "\n",
      "Q: Does the Brooklyn STEAM Center offer anything for alumni?\n",
      "A: Yes, we want to hear from you and keep in touch, we host semi-annual alumni events, and share updates through our alumni email distribution group.\n",
      "\n",
      "Q: Can I keep learning with the Brooklyn STEAM Center as an alumni/adult?\n",
      "A: Certainly, check in with our alumni messages, which will include details about continuing education opportunities at STEAM and our partners.\n",
      "\n",
      "Q: Is the Brooklyn STEAM Center a public or private school?\n",
      "A: The Brooklyn STEAM Center is a New York City Department of Education District 14 public high school, open to all NYCDOE students who meet the admissions criteria.\n",
      "\n",
      "Q: How is the Brooklyn STEAM Center\n"
     ]
    }
   ],
   "source": [
    "gpt2.generate(session, prefix=\"Where is the Brooklyn Steam Center located?\")"
   ]
  },
  {
   "cell_type": "code",
   "execution_count": 10,
   "metadata": {},
   "outputs": [
    {
     "name": "stdout",
     "output_type": "stream",
     "text": [
      "When does the Brooklyn Steam Center programs occur during the day?\n",
      "A: The Brooklyn STEAM Center programs occur during the day for individuals and teams, which can enhance their effectiveness during the regular school day.\n",
      "\n",
      "Q: Wait a second, you said that students will be splitting their day, what does that mean?\n",
      "A: The Brooklyn STEAM Center is located on the Brooklyn Navy Yard, which is geographically separate from all of our partner high schools. Scholars in our program spend half of their school day with us and the other half at their home high school. We provide complimentary yellow bus shuttles during the middle of the day for scholars to travel between the two locations to ensure punctuality and avoid harsh weather.\n",
      "\n",
      "Q: How does this impact my high school graduation requirements?\n",
      "A: Our CTE Programs enable scholars to reduce their required 6 credits of LOTE (Language Other Than English) to 2 credits. In addition, we provide 13 elective credits on a scholar's transcript, five more than required, which can enhance their GPA and stand out to colleges. We also offer a bonus credit course for our internship program. Furthermore, scholars qualify for advanced annotations on their high school diplomas for the successful completion of our program.\n",
      "\n",
      "Q: This sounds great, but how much does it cost?\n",
      "A: The Brooklyn STEAM Center is operated by the New York City Department of Education, therefore as a public school, there is NO cost for scholars to attend. We cover the cost of all equipment, supplies, and fees.\n",
      "\n",
      "Q: How can I find out more about the Brooklyn STEAM Center?\n",
      "A: A typical first step is to speak to your school's counselor. Scholars accepted into the cohort will be able to visit the Brooklyn STEAM Center, once in Grade 9 and again in Grade 10, for specific guided tours. In addition, we offer exploratory opportunities for potential applicants to 'try it on' with our instructors during Grade 10. We also conduct a Brooklyn Navy Yard tour to meet our business partners in Grade 9. Private tours are available upon request.\n",
      "\n",
      "Q: Do I need to be a certain \"type\" of student to be accepted?\n",
      "A: No. We accept students from all eight of our partner schools in an unbiased manner. We do not screen based on grades, demographics, special education, or language proficiency status. If you have concerns about a specific scholar limitation and being able to participate, please let us know; we believe that anyone can learn!\n",
      "\n",
      "Q: Can Grade 11/12 students apply to the Brooklyn STEAM Center?\n",
      "A: Usually, the answer to this question would be \"No\". However, with proper advocacy and support from the partner high school, there may be opportunities for scholars to enter as a Year 2 student based on availability.\n",
      "\n",
      "Q: Beyond the coursework, what else does the Brooklyn STEAM Center provide?\n",
      "A: Scholars are eligible for paid internships with one of our industry partners, prior learning credits and/or priority admission with our partner colleges, access to free testing for industry-recognized credentials, and a supportive community that is built around working with our scholars for their future.\n",
      "\n",
      "Q: How/When do I decide which CTE pathway I want to study? Can I choose more than one?\n",
      "A: You will rank all of the CTE Programs on the supplemental application that you will complete near the end of Grade 10. Scholars typically attain their first choice. Unfortunately, our programs are designed for two full years of instruction, which means you can only enroll in one program.\n",
      "\n",
      "Q: How will I know that I was accepted? Is there an orientation?\n",
      "A: The scholar, identified parent/guardian, and the respective school counselor will receive an email notification that you have been accepted that will also identify the appropriate CTE program that you can either accept or decline. Accepted scholars and their families will be invited to an orientation.\n",
      "\n",
      "Q: What should I do if I have any questions or concerns?\n",
      "A: We have two recommendations, speak to your home high school counselor and/or email our admissions director.\n",
      "\n",
      "Q: Although I’ve graduated, can you still help me with “X”?\n",
      "A: We say, “Once STEAM, Always STEAM”, so please reach out and we will link you with a member of our team or a support service to assist you in solving your problem.\n",
      "\n",
      "Q: Does the Brooklyn STEAM Center offer anything for alumni?\n",
      "A: Yes, we want to hear from you and keep in touch, we host semi-annual alumni events, and share updates through our alumni email distribution group.\n",
      "\n",
      "Q: Can I keep learning with the Brooklyn STEAM Center as an alumni/adult?\n",
      "A: Certainly, check in with our alumni messages, which will include details about continuing education opportunities at STEAM and our partners.\n",
      "\n",
      "Q: Is the Brooklyn STEAM Center a public\n"
     ]
    }
   ],
   "source": [
    "gpt2.generate(session, prefix=\"When does the Brooklyn Steam Center programs occur during the day?\")"
   ]
  },
  {
   "cell_type": "code",
   "execution_count": 7,
   "metadata": {},
   "outputs": [
    {
     "name": "stdout",
     "output_type": "stream",
     "text": [
      "Is Steam currently hiring?\n",
      "A: You can use the Contact Us form and select the Potential Job option to determine if there are any specific positions open.\n",
      "\n",
      "Q: How do I leave my resume with you even if no job opportunity is available?\n",
      "A: You can use the Contact Us form and select the Potential Job option to submit a resume and indicate any specific areas of interest.\n",
      "\n",
      "Q: Would I be considered a City of New York employee if I work for the Brooklyn STEAM Center?\n",
      "A: This would depend on your offer letter, in which you may be employed as a New York City Department of Education staff member, a grant-funded position by the Brooklyn Navy Yard Development Corporation, or a contracted non-employee.\n",
      "\n",
      "Q: How do industry partners typically participate?\n",
      "A: Usually, partners work with us throughout the year by sitting on our Advisory Council, Hosting Interns, or smaller work-based learning opportunities; the method you participate in is like a menu, you can choose a specific engagement, more than one, or all of the above.\n",
      "\n",
      "Q: What if I don’t know what I want to do, but am psyched to get involved?\n",
      "A: Let’s meet, we’d be happy to tour you around our facility and propose some potential collaborations, there can be benefits for both our youth and your organization.\n",
      "\n",
      "Q: What is the purpose of the Advisory Council? How often does it meet?\n",
      "A: In order to execute strong programs that relate to real-world skills, we need your advice, as experts in the industry that are hiring our youth, we need to hear from you. Our Advisory Council is where we discuss these details to then iterate and revise our curriculum and opportunities. We typically meet semi-annually, in January and June, but invested members can choose to be tapped more often.\n",
      "\n",
      "Q: When do you typically place interns with business? How long are the experiences?\n",
      "A: We have three typical internship cycles, Fall (October-January), Spring (March-May), and Summer (July-August). Internships are usually between 80-120 hours each, you are able to work with the intern to establish a schedule that works for both of you.\n",
      "\n",
      "Q: What is the expectation around intern pay and workers' compensation insurance?\n",
      "A: Although we are always excited for partners that are willing to compensate interns, we understand that might not always be an option; regardless, all interns are compensated, and we will use our budget where available to pay the prevailing minimum wage rate. Workers’ compensation insurance is the responsibility of the organization that pays the scholar, so if we’re paying, we’ve covered the legality there.\n",
      "\n",
      "Q: What will my potential intern be capable of doing?\n",
      "A: Our scholars are enrolled in high-quality career pathway programs, you can read about their high-level overviews here. You will also have the ability to review their resume, portfolio, and industry certifications, and interview them to decide if there is a match.\n",
      "\n",
      "Q: Explain the smaller work-based learning opportunities I can get involved with.\n",
      "A: Beyond our internship program and industry-based project initiative, organizations may choose to schedule opportunities such as “Guest Speaking,” “Workplace Tours,” “Career Fairs,” “Job Shadowing” or “Mentoring.”\n",
      "\n",
      "Q: Where does postsecondary education fit in the Brooklyn STEAM Center model?\n",
      "A: We believe that learning is a lifelong process, so we encourage our youth to start “Learning & Earning” when they’re with us and beyond, programs such as college, trade school, and apprenticeships are all viable options post-graduation.\n",
      "\n",
      "Q: Do you track students into a particular option?\n",
      "A: No, we believe in supporting our youth with a pathway that works best with their needs. College, trade school, and apprenticeships all have their own advantages, that we present to our youth for them to make an informed decision.\n",
      "\n",
      "Q: What’s an articulation agreement?\n",
      "A: In short, it is a formalized document between our institution and yours that illustrates the pipeline recruitment strategy to your pathway, which comes with the added benefits of having highly interested and pre-trained scholars that typically come with some form of incentive (e.g. Prior Learning Credit, Fee Waiver, etc.).\n",
      "\n",
      "Q: What should I be looking at to start my journey in understanding the STEAM model?\n",
      "A: We recommend checking out our Playbook as the prime source that breaks down our model for different audiences.\n",
      "\n",
      "Q: Do you do tours?\n",
      "A: Yes, please reach out via our contact form to request a tour.\n",
      "\n",
      "Q: I want to spend a whole day with you to really learn about your model,\n"
     ]
    }
   ],
   "source": [
    "gpt2.generate(session, prefix=\"Is Steam currently hiring?\")"
   ]
  }
 ],
 "metadata": {
  "kernelspec": {
   "display_name": "Python 3",
   "language": "python",
   "name": "python3"
  },
  "language_info": {
   "codemirror_mode": {
    "name": "ipython",
    "version": 3
   },
   "file_extension": ".py",
   "mimetype": "text/x-python",
   "name": "python",
   "nbconvert_exporter": "python",
   "pygments_lexer": "ipython3",
   "version": "3.10.8"
  },
  "orig_nbformat": 4,
  "vscode": {
   "interpreter": {
    "hash": "b0fa6594d8f4cbf19f97940f81e996739fb7646882a419484c72d19e05852a7e"
   }
  }
 },
 "nbformat": 4,
 "nbformat_minor": 2
}
